{
 "cells": [
  {
   "cell_type": "markdown",
   "metadata": {},
   "source": [
    "# ELL881 : Assignment 3\n",
    "\n",
    "In this assignment, you will be building a named entity recognition (NER) model using a pre-trained BERT (Bidirectional Encoder Representations from Transformers) model. NER is a subtask of information extraction that involves identifying and classifying named entities in text into predefined categories such as person names, organization names, locations, and more.\n",
    "\n",
    "Broadly the steps involved will be as follows:\n",
    "\n",
    "1. **Data Preparation**: You will process the dataset given to you and tokenize it.\n",
    "2. **Fine-Tuning BERT**: You will fine-tune a pre-trained BERT model for sequence classification using the training set. You will use the Hugging Face Transformers library to load the pre-trained BERT model and customize the final layers for NER. You will also define the loss function, optimizer, and learning rate scheduler.\n",
    "3. **Model Evaluation**: You will evaluate the performance of the trained model using the test set on the accuracy metric. "
   ]
  },
  {
   "cell_type": "markdown",
   "metadata": {},
   "source": [
    "## Imports"
   ]
  },
  {
   "cell_type": "code",
   "execution_count": 1,
   "metadata": {
    "execution": {
     "iopub.execute_input": "2023-04-23T06:46:08.620497Z",
     "iopub.status.busy": "2023-04-23T06:46:08.619787Z",
     "iopub.status.idle": "2023-04-23T06:46:22.928946Z",
     "shell.execute_reply": "2023-04-23T06:46:22.927608Z",
     "shell.execute_reply.started": "2023-04-23T06:46:08.620458Z"
    }
   },
   "outputs": [],
   "source": [
    "import numpy as np\n",
    "import torch\n",
    "import torch.nn as nn\n",
    "import torch.optim as optim\n",
    "import os\n",
    "import random\n",
    "import matplotlib\n",
    "import matplotlib.pyplot as plt\n",
    "import pandas as pd\n",
    "from transformers import BertTokenizerFast\n",
    "from transformers import BertForTokenClassification\n",
    "from sklearn.model_selection import train_test_split\n",
    "from transformers import AdamW\n",
    "import torch.optim as optim\n",
    "from transformers import DataCollatorForTokenClassification\n",
    "from torch.utils.data import TensorDataset, DataLoader\n",
    "from transformers import get_linear_schedule_with_warmup\n",
    "from sklearn.metrics import f1_score\n",
    "from sklearn.metrics import accuracy_score\n",
    "\n",
    "from transformers import AutoTokenizer\n",
    "import numpy as np\n",
    "\n",
    "os.environ['CUDA_LAUNCH_BLOCKING'] = '1'\n",
    "device = torch.device(\"cuda:0\" if torch.cuda.is_available() else \"cpu\")"
   ]
  },
  {
   "cell_type": "markdown",
   "metadata": {},
   "source": [
    "## Data Preparation\n",
    "\n",
    "### Dataset description\n",
    "The labels in this dataset are as follows:\n",
    "* `geo` for geographical entity\n",
    "* `org` for organization entity\n",
    "* `per` for person entity\n",
    "* `gpe` for geopolitical entity\n",
    "* `tim` for time indicator entity\n",
    "* `art` for artifact entity\n",
    "* `eve` for event entity\n",
    "* `nat` for natural phenomenon entity\n",
    "* `O` is assigned if a word doesn’t belong to any entity.\n",
    "\n",
    "The labels have also been tagged using the BIO scheme.\n",
    "You can use the following code for getting the list of labels."
   ]
  },
  {
   "cell_type": "code",
   "execution_count": 2,
   "metadata": {
    "execution": {
     "iopub.execute_input": "2023-04-23T06:47:21.768449Z",
     "iopub.status.busy": "2023-04-23T06:47:21.767879Z",
     "iopub.status.idle": "2023-04-23T06:47:35.524313Z",
     "shell.execute_reply": "2023-04-23T06:47:35.523170Z",
     "shell.execute_reply.started": "2023-04-23T06:47:21.768396Z"
    }
   },
   "outputs": [
    {
     "data": {
      "application/vnd.jupyter.widget-view+json": {
       "model_id": "27bd212faff640a08e1b37c9bae27477",
       "version_major": 2,
       "version_minor": 0
      },
      "text/plain": [
       "Downloading (…)okenizer_config.json:   0%|          | 0.00/29.0 [00:00<?, ?B/s]"
      ]
     },
     "metadata": {},
     "output_type": "display_data"
    },
    {
     "data": {
      "application/vnd.jupyter.widget-view+json": {
       "model_id": "1cfd4d58634d4a338ffae952065eae78",
       "version_major": 2,
       "version_minor": 0
      },
      "text/plain": [
       "Downloading (…)solve/main/vocab.txt:   0%|          | 0.00/213k [00:00<?, ?B/s]"
      ]
     },
     "metadata": {},
     "output_type": "display_data"
    },
    {
     "data": {
      "application/vnd.jupyter.widget-view+json": {
       "model_id": "8a305664e65c423d968e2eae5f3daf64",
       "version_major": 2,
       "version_minor": 0
      },
      "text/plain": [
       "Downloading (…)/main/tokenizer.json:   0%|          | 0.00/436k [00:00<?, ?B/s]"
      ]
     },
     "metadata": {},
     "output_type": "display_data"
    },
    {
     "data": {
      "application/vnd.jupyter.widget-view+json": {
       "model_id": "f338871f16b24f3b866872fb55cab793",
       "version_major": 2,
       "version_minor": 0
      },
      "text/plain": [
       "Downloading (…)lve/main/config.json:   0%|          | 0.00/570 [00:00<?, ?B/s]"
      ]
     },
     "metadata": {},
     "output_type": "display_data"
    }
   ],
   "source": [
    "df = pd.read_csv(\"/kaggle/input/dataset3/ner.csv\")\n",
    "# df = df.head(20)\n",
    "\n",
    "# We split the data into train, validation and test sets (80-10-10 split)\n",
    "df_train, df_val, df_test = np.split(df.sample(frac=1, random_state=42),\n",
    "                            [int(.8 * len(df)), int(.9 * len(df))])\n",
    "\n",
    "# Load the BERT tokenizer\n",
    "tokenizer = BertTokenizerFast.from_pretrained('bert-base-cased')\n",
    "\n",
    "tag2id = {}\n",
    "\n",
    "tags = ['O','geo','org','per','gpe','tim','art','eve','nat']\n",
    "\n",
    "for t in tags:\n",
    "    if(t!='O'):\n",
    "        tag2id['B-'+t] = len(tag2id)\n",
    "        tag2id['I-'+t] = len(tag2id)\n",
    "    else:\n",
    "        tag2id[t] = len(tag2id)\n",
    "\n",
    "def preprocess(df):\n",
    "    texts  = np.array(df['text'])\n",
    "    labels = np.array(df['labels'])    \n",
    "    updated_texts = []\n",
    "    updated_labels = []\n",
    "\n",
    "    for text,label in zip(texts,labels): \n",
    "        if(len(text.split())!=len(label.split())):\n",
    "            continue;\n",
    "\n",
    "        updated_texts.append(text.split())\n",
    "        updated_labels.append(label.split())\n",
    "\n",
    "    texts = updated_texts\n",
    "    labels = updated_labels\n",
    "\n",
    "    tokens = tokenizer(texts, truncation=True,padding=True, is_split_into_words=True)\n",
    "    \n",
    "    label_ids = []\n",
    "    split_spans = []\n",
    "    \n",
    "    for i,label in enumerate(labels):\n",
    "        span_ids = tokens.word_ids(batch_index=i)\n",
    "        prev = None\n",
    "        \n",
    "        label_id = []\n",
    "        \n",
    "        for i,idx in enumerate(span_ids):\n",
    "            if idx is None:\n",
    "                label_id.append(-100)\n",
    "                span_ids[i] = -1\n",
    "            elif(idx!=prev):\n",
    "                label_id.append(tag2id[label[idx]])\n",
    "            else:\n",
    "                if(label[idx]==\"O\"):\n",
    "                    label_id.append(tag2id[label[idx]])\n",
    "                else:     \n",
    "                    newlab = 'I' + label[idx][1:]\n",
    "                    label_id.append(tag2id[newlab])\n",
    "                    \n",
    "            prev = idx\n",
    "        label_ids.append(label_id)\n",
    "        split_spans.append(span_ids)\n",
    "    tokens[\"labels\"] = label_ids\n",
    "#     print(len(tokens[\"input_ids\"][0]))\n",
    "    \n",
    "    return tokens,texts,labels,torch.tensor(split_spans)\n",
    "\n",
    "train_tokens,train_text,train_labels,train_spans = preprocess(df_train)\n",
    "val_tokens,val_text,val_labels,val_spans = preprocess(df_val)\n",
    "test_tokens,test_text,test_labels,test_spans = preprocess(df_test)"
   ]
  },
  {
   "cell_type": "code",
   "execution_count": 3,
   "metadata": {
    "execution": {
     "iopub.execute_input": "2023-04-23T06:48:27.353293Z",
     "iopub.status.busy": "2023-04-23T06:48:27.352752Z",
     "iopub.status.idle": "2023-04-23T06:48:28.833195Z",
     "shell.execute_reply": "2023-04-23T06:48:28.831951Z",
     "shell.execute_reply.started": "2023-04-23T06:48:27.353245Z"
    }
   },
   "outputs": [],
   "source": [
    "train_inputs = torch.tensor(train_tokens['input_ids'])\n",
    "train_attention_masks = torch.tensor(train_tokens['attention_mask'])\n",
    "train_labels = torch.tensor(train_tokens['labels'])\n",
    "\n",
    "val_inputs = torch.tensor(val_tokens['input_ids'])\n",
    "val_attention_masks = torch.tensor(val_tokens['attention_mask'])\n",
    "val_labels = torch.tensor(val_tokens['labels'])\n",
    "\n",
    "test_inputs = torch.tensor(test_tokens['input_ids'])\n",
    "test_attention_masks = torch.tensor(test_tokens['attention_mask'])\n",
    "test_labels = torch.tensor(test_tokens['labels'])\n",
    "\n",
    "# Convert to TensorDataset\n",
    "train_dataset = TensorDataset(train_inputs, train_attention_masks, train_labels,train_spans)\n",
    "val_dataset  = TensorDataset(val_inputs, val_attention_masks, val_labels,val_spans)\n",
    "test_dataset = TensorDataset(test_inputs, test_attention_masks, test_labels,test_spans)\n",
    "\n",
    "# Define batch size\n",
    "batch_size = 32\n",
    "\n",
    "# Define data loaders for training, validation and test sets\n",
    "train_dataloader = DataLoader(train_dataset, batch_size=batch_size, shuffle=True)\n",
    "val_dataloader = DataLoader(val_dataset, batch_size=batch_size, shuffle=False)\n",
    "test_dataloader = DataLoader(test_dataset, batch_size=batch_size, shuffle=False)\n",
    "\n",
    "unique_labels = tag2id"
   ]
  },
  {
   "cell_type": "markdown",
   "metadata": {},
   "source": [
    "## Model Building\n",
    "\n",
    "In this assignment, you will be using a pretrained BERT model from HuggingFace (supplied in the `transformers` library).\n",
    "This is a classification task hence the model that you should make use of `BertForTokenClassification` model.\n",
    "\n",
    "You can train the model using GPU. You should ideally get the script ready on your system by taking a small subset of data and then train it completely using an online service such as Google Colab or Kaggle.\n",
    "\n",
    "Further, the model expects the inputs to supplied in a particular format which you should be able to read online in the documentations and other resources like medium articles (read up on using BERT for NLP tasks in Pytorch and you will find a lot of resources online). Additionally, for performing tokenization you should be using the tokenizer supplied in the transformers library. The imports for the same have been done in the code snippet below:"
   ]
  },
  {
   "cell_type": "code",
   "execution_count": 4,
   "metadata": {
    "execution": {
     "iopub.execute_input": "2023-04-23T06:48:34.647079Z",
     "iopub.status.busy": "2023-04-23T06:48:34.645956Z",
     "iopub.status.idle": "2023-04-23T06:48:34.792586Z",
     "shell.execute_reply": "2023-04-23T06:48:34.791559Z",
     "shell.execute_reply.started": "2023-04-23T06:48:34.647034Z"
    }
   },
   "outputs": [],
   "source": [
    "tokenizer = BertTokenizerFast.from_pretrained('bert-base-cased')\n",
    "# Note how we are using the cased version of tokenizer here since the labels leverage the case information\n",
    "\n",
    "\n",
    "class BertModel(torch.nn.Module):\n",
    "\n",
    "    def __init__(self):\n",
    "        super(BertModel, self).__init__()\n",
    "        self.bert = BertForTokenClassification.from_pretrained('bert-base-cased', num_labels=len(unique_labels))\n",
    "\n",
    "    def forward(self, input_id, mask, label):\n",
    "        output = self.bert(input_ids=input_id, attention_mask=mask, labels=label, return_dict=False)\n",
    "        return output\n"
   ]
  },
  {
   "cell_type": "code",
   "execution_count": 5,
   "metadata": {
    "execution": {
     "iopub.execute_input": "2023-04-23T06:48:40.278699Z",
     "iopub.status.busy": "2023-04-23T06:48:40.278325Z",
     "iopub.status.idle": "2023-04-23T06:48:40.295848Z",
     "shell.execute_reply": "2023-04-23T06:48:40.294431Z",
     "shell.execute_reply.started": "2023-04-23T06:48:40.278665Z"
    }
   },
   "outputs": [],
   "source": [
    "def evaluate(model,dataloader,lab):\n",
    "    model.eval()\n",
    "    test_loss = 0\n",
    "    \n",
    "    test_actual = []\n",
    "    test_preds  = []\n",
    "    \n",
    "    loss_fn = nn.CrossEntropyLoss()\n",
    "\n",
    "    with torch.no_grad():\n",
    "        for batch in dataloader:\n",
    "            input_ids = batch[0].to(device)\n",
    "            attention_mask = batch[1].to(device)\n",
    "            labels = batch[2].to(device)\n",
    "            spans   = batch[3].to(device)\n",
    "\n",
    "            outputs = model(input_ids,attention_mask,labels)\n",
    "            _, logits = outputs[:2]\n",
    "            loss = loss_fn(logits.view(-1, len(unique_labels)), labels.view(-1))\n",
    "            test_loss += loss.item()\n",
    "\n",
    "            probs = torch.nn.functional.softmax(logits, dim=-1)\n",
    "            preds = torch.argmax(probs, dim=-1)\n",
    "            \n",
    "            for i,span in enumerate(spans):\n",
    "                pre = None\n",
    "                label = labels[i].cpu().numpy()\n",
    "                pred  = preds[i].cpu().numpy()\n",
    "                for j in range(len(span)):\n",
    "                    if(span[j]==-1):\n",
    "                        continue\n",
    "                    else:\n",
    "                        if(span[j]!=pre):\n",
    "                            test_actual.append(label[j])\n",
    "                            test_preds.append(pred[j])\n",
    "                    pre = span[j]\n",
    "    \n",
    "    test_actual_wO = []\n",
    "    test_preds_wO  = []\n",
    "    \n",
    "    for i in range(len(test_actual)):\n",
    "        if(test_actual[i]!=0):\n",
    "            test_actual_wO.append(test_actual[i])\n",
    "            test_preds_wO.append(test_preds[i])\n",
    "            \n",
    "    test_f1 = f1_score(test_actual, test_preds, average='weighted')\n",
    "    a = f1_score(test_actual, test_preds, average='micro')\n",
    "    b = f1_score(test_actual, test_preds, average='macro')\n",
    "    accuracy = accuracy_score(test_actual, test_preds)\n",
    "    \n",
    "    test_f1_wO = f1_score(test_actual_wO, test_preds_wO, average='weighted')\n",
    "    a1 = f1_score(test_actual_wO, test_preds_wO, average='micro')\n",
    "    b1 = f1_score(test_actual_wO, test_preds_wO, average='macro')\n",
    "    accuracy_wO = accuracy_score(test_actual_wO, test_preds_wO)\n",
    "    \n",
    "    return test_f1,accuracy,test_f1_wO,accuracy_wO, (a+b)/2, (a1+b1)/2"
   ]
  },
  {
   "cell_type": "markdown",
   "metadata": {},
   "source": [
    "## Model Training"
   ]
  },
  {
   "cell_type": "code",
   "execution_count": 6,
   "metadata": {
    "execution": {
     "iopub.execute_input": "2023-04-23T06:48:52.617690Z",
     "iopub.status.busy": "2023-04-23T06:48:52.617295Z",
     "iopub.status.idle": "2023-04-23T06:48:52.628648Z",
     "shell.execute_reply": "2023-04-23T06:48:52.627464Z",
     "shell.execute_reply.started": "2023-04-23T06:48:52.617655Z"
    }
   },
   "outputs": [],
   "source": [
    "def train(wd):\n",
    "    # Initialize the model, optimizer, and learning rate scheduler\n",
    "    model = BertModel()\n",
    "    optimizer = torch.optim.AdamW(model.parameters(), lr=5e-5, eps=1e-8, weight_decay=wd)\n",
    "    epochs = 20\n",
    "    scheduler = get_linear_schedule_with_warmup(optimizer, num_warmup_steps=0, num_training_steps=len(train_dataset)*epochs)\n",
    "\n",
    "    # Define the loss function\n",
    "    loss_fn = nn.CrossEntropyLoss()\n",
    "\n",
    "\n",
    "    # Train the model\n",
    "    model.to(device)\n",
    "    model.train()\n",
    "\n",
    "    for epoch in range(epochs):\n",
    "        for step, batch in enumerate(train_dataloader):\n",
    "            input_ids = batch[0].to(device)\n",
    "            attention_mask = batch[1].to(device)\n",
    "            labels = batch[2].to(device)\n",
    "\n",
    "            optimizer.zero_grad()\n",
    "\n",
    "            outputs = model(input_ids,attention_mask,labels)\n",
    "            _, logits = outputs[:2]\n",
    "            loss = loss_fn(logits.view(-1, len(unique_labels)), labels.view(-1))\n",
    "\n",
    "            loss.backward()\n",
    "            nn.utils.clip_grad_norm_(model.parameters(), max_norm=1.0)\n",
    "            optimizer.step()\n",
    "            scheduler.step()\n",
    "\n",
    "            if step % 1 == 0:\n",
    "                print(f\"Epoch {epoch+1}/{epochs} - Batch {step+1}/{len(train_dataloader)} - Loss: {loss.item()}\",end=\"\\r\")\n",
    "        print(f\"Epoch {epoch+1}/{epochs} - Batch {len(train_dataloader)}/{len(train_dataloader)} - Loss: {loss.item()}\")\n",
    "        \n",
    "    return model"
   ]
  },
  {
   "cell_type": "code",
   "execution_count": 7,
   "metadata": {
    "execution": {
     "iopub.execute_input": "2023-04-22T19:06:09.493678Z",
     "iopub.status.busy": "2023-04-22T19:06:09.492292Z",
     "iopub.status.idle": "2023-04-22T23:22:01.797867Z",
     "shell.execute_reply": "2023-04-22T23:22:01.796675Z",
     "shell.execute_reply.started": "2023-04-22T19:06:09.493461Z"
    }
   },
   "outputs": [
    {
     "data": {
      "application/vnd.jupyter.widget-view+json": {
       "model_id": "9c627c65779242758193c514290b9cd1",
       "version_major": 2,
       "version_minor": 0
      },
      "text/plain": [
       "Downloading pytorch_model.bin:   0%|          | 0.00/436M [00:00<?, ?B/s]"
      ]
     },
     "metadata": {},
     "output_type": "display_data"
    },
    {
     "name": "stderr",
     "output_type": "stream",
     "text": [
      "Some weights of the model checkpoint at bert-base-cased were not used when initializing BertForTokenClassification: ['cls.predictions.bias', 'cls.predictions.transform.LayerNorm.bias', 'cls.seq_relationship.bias', 'cls.predictions.transform.dense.weight', 'cls.predictions.transform.LayerNorm.weight', 'cls.predictions.transform.dense.bias', 'cls.seq_relationship.weight', 'cls.predictions.decoder.weight']\n",
      "- This IS expected if you are initializing BertForTokenClassification from the checkpoint of a model trained on another task or with another architecture (e.g. initializing a BertForSequenceClassification model from a BertForPreTraining model).\n",
      "- This IS NOT expected if you are initializing BertForTokenClassification from the checkpoint of a model that you expect to be exactly identical (initializing a BertForSequenceClassification model from a BertForSequenceClassification model).\n",
      "Some weights of BertForTokenClassification were not initialized from the model checkpoint at bert-base-cased and are newly initialized: ['classifier.weight', 'classifier.bias']\n",
      "You should probably TRAIN this model on a down-stream task to be able to use it for predictions and inference.\n"
     ]
    },
    {
     "name": "stdout",
     "output_type": "stream",
     "text": [
      "Epoch 1/5 - Batch 1199/1199 - Loss: 0.150756433606147776\n",
      "Epoch 2/5 - Batch 1199/1199 - Loss: 0.156630948185920726\n",
      "Epoch 3/5 - Batch 1199/1199 - Loss: 0.093555003404617314\n",
      "Epoch 4/5 - Batch 1199/1199 - Loss: 0.042238339781761174\n",
      "Epoch 5/5 - Batch 1199/1199 - Loss: 0.032024141401052475\n"
     ]
    },
    {
     "name": "stderr",
     "output_type": "stream",
     "text": [
      "Some weights of the model checkpoint at bert-base-cased were not used when initializing BertForTokenClassification: ['cls.predictions.bias', 'cls.predictions.transform.LayerNorm.bias', 'cls.seq_relationship.bias', 'cls.predictions.transform.dense.weight', 'cls.predictions.transform.LayerNorm.weight', 'cls.predictions.transform.dense.bias', 'cls.seq_relationship.weight', 'cls.predictions.decoder.weight']\n",
      "- This IS expected if you are initializing BertForTokenClassification from the checkpoint of a model trained on another task or with another architecture (e.g. initializing a BertForSequenceClassification model from a BertForPreTraining model).\n",
      "- This IS NOT expected if you are initializing BertForTokenClassification from the checkpoint of a model that you expect to be exactly identical (initializing a BertForSequenceClassification model from a BertForSequenceClassification model).\n",
      "Some weights of BertForTokenClassification were not initialized from the model checkpoint at bert-base-cased and are newly initialized: ['classifier.weight', 'classifier.bias']\n",
      "You should probably TRAIN this model on a down-stream task to be able to use it for predictions and inference.\n"
     ]
    },
    {
     "name": "stdout",
     "output_type": "stream",
     "text": [
      "Epoch 1/5 - Batch 1199/1199 - Loss: 0.109644822776317644\n",
      "Epoch 2/5 - Batch 1199/1199 - Loss: 0.062488235533237464\n",
      "Epoch 3/5 - Batch 1199/1199 - Loss: 0.063061624765396125\n",
      "Epoch 4/5 - Batch 1199/1199 - Loss: 0.058987893164157875\n",
      "Epoch 5/5 - Batch 1199/1199 - Loss: 0.024460982531309128\n"
     ]
    },
    {
     "name": "stderr",
     "output_type": "stream",
     "text": [
      "Some weights of the model checkpoint at bert-base-cased were not used when initializing BertForTokenClassification: ['cls.predictions.bias', 'cls.predictions.transform.LayerNorm.bias', 'cls.seq_relationship.bias', 'cls.predictions.transform.dense.weight', 'cls.predictions.transform.LayerNorm.weight', 'cls.predictions.transform.dense.bias', 'cls.seq_relationship.weight', 'cls.predictions.decoder.weight']\n",
      "- This IS expected if you are initializing BertForTokenClassification from the checkpoint of a model trained on another task or with another architecture (e.g. initializing a BertForSequenceClassification model from a BertForPreTraining model).\n",
      "- This IS NOT expected if you are initializing BertForTokenClassification from the checkpoint of a model that you expect to be exactly identical (initializing a BertForSequenceClassification model from a BertForSequenceClassification model).\n",
      "Some weights of BertForTokenClassification were not initialized from the model checkpoint at bert-base-cased and are newly initialized: ['classifier.weight', 'classifier.bias']\n",
      "You should probably TRAIN this model on a down-stream task to be able to use it for predictions and inference.\n"
     ]
    },
    {
     "name": "stdout",
     "output_type": "stream",
     "text": [
      "Epoch 1/5 - Batch 1199/1199 - Loss: 0.136154681444168136\n",
      "Epoch 2/5 - Batch 1199/1199 - Loss: 0.182007372379302986\n",
      "Epoch 3/5 - Batch 1199/1199 - Loss: 0.080407917499542244\n",
      "Epoch 4/5 - Batch 1199/1199 - Loss: 0.061547424644231796\n",
      "Epoch 5/5 - Batch 1199/1199 - Loss: 0.017750769853591927\n"
     ]
    },
    {
     "name": "stderr",
     "output_type": "stream",
     "text": [
      "Some weights of the model checkpoint at bert-base-cased were not used when initializing BertForTokenClassification: ['cls.predictions.bias', 'cls.predictions.transform.LayerNorm.bias', 'cls.seq_relationship.bias', 'cls.predictions.transform.dense.weight', 'cls.predictions.transform.LayerNorm.weight', 'cls.predictions.transform.dense.bias', 'cls.seq_relationship.weight', 'cls.predictions.decoder.weight']\n",
      "- This IS expected if you are initializing BertForTokenClassification from the checkpoint of a model trained on another task or with another architecture (e.g. initializing a BertForSequenceClassification model from a BertForPreTraining model).\n",
      "- This IS NOT expected if you are initializing BertForTokenClassification from the checkpoint of a model that you expect to be exactly identical (initializing a BertForSequenceClassification model from a BertForSequenceClassification model).\n",
      "Some weights of BertForTokenClassification were not initialized from the model checkpoint at bert-base-cased and are newly initialized: ['classifier.weight', 'classifier.bias']\n",
      "You should probably TRAIN this model on a down-stream task to be able to use it for predictions and inference.\n"
     ]
    },
    {
     "name": "stdout",
     "output_type": "stream",
     "text": [
      "Epoch 1/5 - Batch 1199/1199 - Loss: 0.159784689545631464\n",
      "Epoch 2/5 - Batch 1199/1199 - Loss: 0.041637733578681946\n",
      "Epoch 3/5 - Batch 1199/1199 - Loss: 0.086809948086738596\n",
      "Epoch 4/5 - Batch 1199/1199 - Loss: 0.120832063257694242\n",
      "Epoch 5/5 - Batch 1199/1199 - Loss: 0.028426183387637144\n"
     ]
    },
    {
     "data": {
      "image/png": "[encoded data removed]",
      "text/plain": [
       "<Figure size 3000x3000 with 2 Axes>"
      ]
     },
     "metadata": {},
     "output_type": "display_data"
    }
   ],
   "source": [
    "#weight_decay\n",
    "wds = [1e-3,1e-4,1e-5,1e-6]\n",
    "tas = []\n",
    "ta_wos = []\n",
    "vas = []\n",
    "va_wos = []\n",
    "\n",
    "for wd in wds:\n",
    "    model = train(wd)\n",
    "    a,ta,b,ta_wo,c,d = evaluate(model,train_dataloader,train_labels)\n",
    "    h,va,g,va_wo,f,e = evaluate(model,val_dataloader,val_labels)\n",
    "    tas.append(ta)\n",
    "    vas.append(va)\n",
    "    ta_wos.append(ta_wo)\n",
    "    va_wos.append(va_wo)\n",
    "\n",
    "fig1 = plt.figure(figsize = (30,30))\n",
    "ax1 = fig1.add_subplot(2,2,1)\n",
    "ax2 = fig1.add_subplot(2,2,2)\n",
    "ax1.plot(wds,tas)\n",
    "ax1.plot(wds,vas)\n",
    "# ax1.title(\"Without O-label\")\n",
    "ax1.set(xlabel='Weight_Decay', ylabel='Accuracy',title = \"With O-label\")\n",
    "ax2.plot(wds,ta_wos)\n",
    "ax2.plot(wds,va_wos)\n",
    "ax2.set(xlabel='Weight_Decay', ylabel='Accuracy',title = \"Without O-label\")\n",
    "\n",
    "plt.show()\n"
   ]
  },
  {
   "cell_type": "markdown",
   "metadata": {},
   "source": [
    "A weight decay of 1e-5 is giving better results on the validation data"
   ]
  },
  {
   "cell_type": "markdown",
   "metadata": {},
   "source": [
    "## Evaluation\n",
    "For evaluating the performance of the model, you should make use of the `accuracy` metric. You should report the performance after removing the pads. Further, it would be better if you report the accuracy both with and without the \"O\" label."
   ]
  },
  {
   "cell_type": "code",
   "execution_count": 7,
   "metadata": {
    "execution": {
     "iopub.execute_input": "2023-04-23T06:49:09.498616Z",
     "iopub.status.busy": "2023-04-23T06:49:09.497507Z",
     "iopub.status.idle": "2023-04-23T10:48:13.146259Z",
     "shell.execute_reply": "2023-04-23T10:48:13.144651Z",
     "shell.execute_reply.started": "2023-04-23T06:49:09.498572Z"
    }
   },
   "outputs": [
    {
     "data": {
      "application/vnd.jupyter.widget-view+json": {
       "model_id": "a9b15241ca8c4874970588d288841a71",
       "version_major": 2,
       "version_minor": 0
      },
      "text/plain": [
       "Downloading pytorch_model.bin:   0%|          | 0.00/436M [00:00<?, ?B/s]"
      ]
     },
     "metadata": {},
     "output_type": "display_data"
    },
    {
     "name": "stderr",
     "output_type": "stream",
     "text": [
      "Some weights of the model checkpoint at bert-base-cased were not used when initializing BertForTokenClassification: ['cls.seq_relationship.weight', 'cls.predictions.decoder.weight', 'cls.predictions.transform.LayerNorm.weight', 'cls.predictions.transform.LayerNorm.bias', 'cls.predictions.transform.dense.weight', 'cls.predictions.transform.dense.bias', 'cls.seq_relationship.bias', 'cls.predictions.bias']\n",
      "- This IS expected if you are initializing BertForTokenClassification from the checkpoint of a model trained on another task or with another architecture (e.g. initializing a BertForSequenceClassification model from a BertForPreTraining model).\n",
      "- This IS NOT expected if you are initializing BertForTokenClassification from the checkpoint of a model that you expect to be exactly identical (initializing a BertForSequenceClassification model from a BertForSequenceClassification model).\n",
      "Some weights of BertForTokenClassification were not initialized from the model checkpoint at bert-base-cased and are newly initialized: ['classifier.bias', 'classifier.weight']\n",
      "You should probably TRAIN this model on a down-stream task to be able to use it for predictions and inference.\n"
     ]
    },
    {
     "name": "stdout",
     "output_type": "stream",
     "text": [
      "Epoch 1/20 - Batch 1199/1199 - Loss: 0.13859917223453522\n",
      "Epoch 2/20 - Batch 1199/1199 - Loss: 0.069377750158309946\n",
      "Epoch 3/20 - Batch 1199/1199 - Loss: 0.092299394309520724\n",
      "Epoch 4/20 - Batch 1199/1199 - Loss: 0.076653353869915016\n",
      "Epoch 5/20 - Batch 1199/1199 - Loss: 0.022658515721559525\n",
      "Epoch 6/20 - Batch 1199/1199 - Loss: 0.0337128974497318344\n",
      "Epoch 7/20 - Batch 1199/1199 - Loss: 0.018152339383959778\n",
      "Epoch 8/20 - Batch 1199/1199 - Loss: 0.0222415924072265625\n",
      "Epoch 9/20 - Batch 1199/1199 - Loss: 0.0096005965024232865\n",
      "Epoch 10/20 - Batch 1199/1199 - Loss: 0.0047138095833361152\n",
      "Epoch 11/20 - Batch 1199/1199 - Loss: 0.0082102790474891667\n",
      "Epoch 12/20 - Batch 1199/1199 - Loss: 0.0060477922670543192\n",
      "Epoch 13/20 - Batch 1199/1199 - Loss: 0.03400174528360367343\n",
      "Epoch 14/20 - Batch 1199/1199 - Loss: 0.01468165032565593778\n",
      "Epoch 15/20 - Batch 1199/1199 - Loss: 0.00125900853890925655\n",
      "Epoch 16/20 - Batch 1199/1199 - Loss: 0.00038958722143433995\n",
      "Epoch 17/20 - Batch 1199/1199 - Loss: 0.00048933801008388467\n",
      "Epoch 18/20 - Batch 1199/1199 - Loss: 0.00851296447217464464\n",
      "Epoch 19/20 - Batch 1199/1199 - Loss: 0.00692012999206781464\n",
      "Epoch 20/20 - Batch 1199/1199 - Loss: 0.00010474348528077826\n",
      "Training Results with O-label:\n",
      "Training weighted F1 Score: 0.9994667784120882\n",
      "Training avg F1 Score: 0.9945612454345278\n",
      "Training Accuracy: 99.94669477740288 %\n",
      "\n",
      "\n",
      "Training Results without O-label:\n",
      "Training weighted F1 Score: 0.9979346372720741\n",
      "Training avg F1 Score: 0.96471498843254\n",
      "Training Accuracy: 99.76291489892688 %\n",
      "\n",
      "\n",
      "Validation Results with O-label:\n",
      "Validation weighted F1 Score: 0.9715550956984208\n",
      "Validation avg F1 Score: 0.8245294558156566\n",
      "Validation Accuracy: 97.16287048508529 %\n",
      "\n",
      "\n",
      "Validation Results without O-label:\n",
      "Validation weighted F1 Score: 0.8734116359260646\n",
      "Valdiation avg F1 Score: 0.7470327597213384\n",
      "Validation Accuracy: 85.81085233208383 %\n",
      "\n",
      "\n",
      "Testing Results with O-label:\n",
      "Testing weighted F1 Score: 0.9725340305987908\n",
      "Testing avg F1 Score: 0.8165717364698222\n",
      "Testing Accuracy: 97.27550867182221 %\n",
      "\n",
      "\n",
      "Testing Results without O-label:\n",
      "Testing weighted F1 Score: 0.874528633228816\n",
      "Testing avg F1 Score: 0.7381831084189785\n",
      "Testing Accuracy: 85.89234776137914 %\n"
     ]
    }
   ],
   "source": [
    "model = train(1e-5)\n",
    "train_f1,train_acc,train_f1_wO,train_acc_wO,t1,t11 = evaluate(model,train_dataloader,train_labels)\n",
    "val_f1,val_acc,val_f1_wO,val_acc_wO,t2,t22         = evaluate(model,val_dataloader,val_labels)\n",
    "test_f1,test_acc,test_f1_wO,test_acc_wO,t3,t33     = evaluate(model,test_dataloader,test_labels)\n",
    "\n",
    "print(\"Training Results with O-label:\")\n",
    "print(f\"Training weighted F1 Score: {train_f1}\")\n",
    "print(f\"Training avg F1 Score: {t1}\")\n",
    "print(f\"Training Accuracy: {train_acc*100} %\")\n",
    "print('\\n')\n",
    "print(\"Training Results without O-label:\")\n",
    "print(f\"Training weighted F1 Score: {train_f1_wO}\")\n",
    "print(f\"Training avg F1 Score: {t11}\")\n",
    "print(f\"Training Accuracy: {train_acc_wO*100} %\")\n",
    "print('\\n')\n",
    "print(\"Validation Results with O-label:\")\n",
    "print(f\"Validation weighted F1 Score: {val_f1}\")\n",
    "print(f\"Validation avg F1 Score: {t2}\")\n",
    "print(f\"Validation Accuracy: {val_acc*100} %\")\n",
    "print('\\n')\n",
    "print(\"Validation Results without O-label:\")\n",
    "print(f\"Validation weighted F1 Score: {val_f1_wO}\")\n",
    "print(f\"Valdiation avg F1 Score: {t22}\")\n",
    "print(f\"Validation Accuracy: {val_acc_wO*100} %\")\n",
    "print('\\n')\n",
    "print(\"Testing Results with O-label:\")\n",
    "print(f\"Testing weighted F1 Score: {test_f1}\")\n",
    "print(f\"Testing avg F1 Score: {t3}\")\n",
    "print(f\"Testing Accuracy: {test_acc*100} %\")\n",
    "print('\\n')\n",
    "print(\"Testing Results without O-label:\")\n",
    "print(f\"Testing weighted F1 Score: {test_f1_wO}\")\n",
    "print(f\"Testing avg F1 Score: {t33}\")\n",
    "print(f\"Testing Accuracy: {test_acc_wO*100} %\")\n",
    "    "
   ]
  },
  {
   "cell_type": "markdown",
   "metadata": {},
   "source": [
    "Your final submission should include a report that describes your methodology, experimental results, analysis, and discussion, as well as the code used to train and test the model.\n",
    "\n",
    "Good luck, and have fun exploring BERT!"
   ]
  }
 ],
 "metadata": {
  "kernelspec": {
   "display_name": "Python 3 (ipykernel)",
   "language": "python",
   "name": "python3"
  },
  "language_info": {
   "codemirror_mode": {
    "name": "ipython",
    "version": 3
   },
   "file_extension": ".py",
   "mimetype": "text/x-python",
   "name": "python",
   "nbconvert_exporter": "python",
   "pygments_lexer": "ipython3",
   "version": "3.9.7"
  },
  "vscode": {
   "interpreter": {
    "hash": "916dbcbb3f70747c44a77c7bcd40155683ae19c65e1c03b4aa3499c5328201f1"
   }
  }
 },
 "nbformat": 4,
 "nbformat_minor": 4
}
